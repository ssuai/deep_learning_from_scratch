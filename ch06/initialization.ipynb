{
 "cells": [
  {
   "cell_type": "code",
   "execution_count": 1,
   "id": "348dc3f6",
   "metadata": {},
   "outputs": [],
   "source": [
    "# %load weight_init_activation_histogram.py\n",
    "import numpy as np\n",
    "import matplotlib.pyplot as plt\n",
    "\n",
    "\n",
    "def sigmoid(x):\n",
    "    return 1 / (1 + np.exp(-x))\n",
    "\n",
    "\n",
    "def ReLU(x):\n",
    "    return np.maximum(0, x)\n",
    "\n",
    "\n",
    "def tanh(x):\n",
    "    return np.tanh(x)\n",
    "    \n",
    "def box_off():\n",
    "    ax=plt.gca()\n",
    "    ax.spines['top'].set_visible(False)\n",
    "    ax.spines['right'].set_visible(False)"
   ]
  },
  {
   "cell_type": "code",
   "execution_count": 2,
   "id": "b5ce9eb3",
   "metadata": {},
   "outputs": [],
   "source": [
    "input_data = np.random.randn(1000, 100)  # 1000개의 데이터\n",
    "node_num = 100  # 각 은닉층의 노드(뉴런) 수\n",
    "hidden_layer_size = 5  # 은닉층이 5개\n",
    "activations = {}  # 이곳에 활성화 결과를 저장\n",
    "\n",
    "x = input_data\n",
    "\n",
    "for i in range(hidden_layer_size):\n",
    "    if i != 0:\n",
    "        x = activations[i-1]\n",
    "\n",
    "    # 초깃값을 다양하게 바꿔가며 실험해보자！\n",
    "#     w = np.random.randn(node_num, node_num) * 1\n",
    "    w = np.random.randn(node_num, node_num) * 0.01\n",
    "#     w = np.random.randn(node_num, node_num) * np.sqrt(1.0 / node_num)  # Xavier\n",
    "#     w = np.random.randn(node_num, node_num) * np.sqrt(2.0 / node_num) # He\n",
    "\n",
    "\n",
    "    a = np.dot(x, w)\n",
    "\n",
    "\n",
    "    # 활성화 함수도 바꿔가며 실험해보자！\n",
    "#     z = sigmoid(a)\n",
    "    z = ReLU(a)\n",
    "    # z = tanh(a)\n",
    "\n",
    "    activations[i] = z"
   ]
  },
  {
   "cell_type": "code",
   "execution_count": 3,
   "id": "9ba97577",
   "metadata": {},
   "outputs": [
    {
     "data": {
      "image/png": "[encoded data removed]",
      "text/plain": [
       "<Figure size 936x216 with 5 Axes>"
      ]
     },
     "metadata": {
      "needs_background": "light"
     },
     "output_type": "display_data"
    }
   ],
   "source": [
    "# 히스토그램 그리기\n",
    "plt.figure(figsize=(13,3))\n",
    "for i, a in activations.items():\n",
    "    plt.subplot(1, len(activations), i+1)\n",
    "    plt.title(str(i+1) + \"-layer\")\n",
    "    if i != 0: plt.yticks([], [])\n",
    "    # plt.xlim(0.1, 1)\n",
    "    plt.ylim(0, 7000)\n",
    "    plt.hist(a.flatten(), 30, range=(0,1), color='k')\n",
    "    box_off()\n",
    "\n",
    "# plt.show()\n",
    "plt.savefig('hist.png')"
   ]
  },
  {
   "cell_type": "markdown",
   "id": "268d1244",
   "metadata": {},
   "source": [
    "## 6.2.4 MNIST 데이터셋으로 본 가중치 초기값 비교"
   ]
  },
  {
   "cell_type": "code",
   "execution_count": 4,
   "id": "540a8e91",
   "metadata": {},
   "outputs": [
    {
     "name": "stdout",
     "output_type": "stream",
     "text": [
      "===========iteration:0===========\n",
      "std=0.01:2.302513390142843\n",
      "Xavier:2.3049512347896837\n",
      "He:2.450539178577274\n",
      "===========iteration:100===========\n",
      "std=0.01:2.3019992586318474\n",
      "Xavier:2.247663648790174\n",
      "He:1.4433279942799127\n",
      "===========iteration:200===========\n",
      "std=0.01:2.302569113645954\n",
      "Xavier:2.165710162552892\n",
      "He:0.7242854632353859\n",
      "===========iteration:300===========\n",
      "std=0.01:2.299352327481507\n",
      "Xavier:1.9854582445450188\n",
      "He:0.5115807845386917\n",
      "===========iteration:400===========\n",
      "std=0.01:2.3033318424644986\n",
      "Xavier:1.5988070150577292\n",
      "He:0.5194606855148122\n",
      "===========iteration:500===========\n",
      "std=0.01:2.3016555864925663\n",
      "Xavier:1.0029428032591843\n",
      "He:0.4415589563529502\n",
      "===========iteration:600===========\n",
      "std=0.01:2.2979706097942465\n",
      "Xavier:0.6928450183268822\n",
      "He:0.4069675790117778\n",
      "===========iteration:700===========\n",
      "std=0.01:2.295532113833449\n",
      "Xavier:0.6002244289237284\n",
      "He:0.3132774772140141\n",
      "===========iteration:800===========\n",
      "std=0.01:2.299396019975448\n",
      "Xavier:0.42636280031579776\n",
      "He:0.20281656068415232\n",
      "===========iteration:900===========\n",
      "std=0.01:2.2986907197006636\n",
      "Xavier:0.36457773554928774\n",
      "He:0.20254948175342852\n",
      "===========iteration:1000===========\n",
      "std=0.01:2.2989365365377976\n",
      "Xavier:0.43647403964304465\n",
      "He:0.29312386955922237\n",
      "===========iteration:1100===========\n",
      "std=0.01:2.300400647108343\n",
      "Xavier:0.355358362385118\n",
      "He:0.20854651933183047\n",
      "===========iteration:1200===========\n",
      "std=0.01:2.303943067051383\n",
      "Xavier:0.40677351978431336\n",
      "He:0.3156675154633499\n",
      "===========iteration:1300===========\n",
      "std=0.01:2.2994385280267187\n",
      "Xavier:0.33761627795544735\n",
      "He:0.23833425054440333\n",
      "===========iteration:1400===========\n",
      "std=0.01:2.3007265060011934\n",
      "Xavier:0.2828184259670629\n",
      "He:0.21021740264673497\n",
      "===========iteration:1500===========\n",
      "std=0.01:2.306309637461214\n",
      "Xavier:0.4311963048780917\n",
      "He:0.3141578780681208\n",
      "===========iteration:1600===========\n",
      "std=0.01:2.3001405844819702\n",
      "Xavier:0.2782530245258639\n",
      "He:0.18611695562539127\n",
      "===========iteration:1700===========\n",
      "std=0.01:2.300053153379217\n",
      "Xavier:0.2268507273000304\n",
      "He:0.1622572692435803\n",
      "===========iteration:1800===========\n",
      "std=0.01:2.2917235870157855\n",
      "Xavier:0.19187006549076085\n",
      "He:0.10143795112721685\n",
      "===========iteration:1900===========\n",
      "std=0.01:2.3031968602426733\n",
      "Xavier:0.3165474034240623\n",
      "He:0.24312468911849186\n"
     ]
    }
   ],
   "source": [
    "# %load weight_init_compare.py\n",
    "import os\n",
    "import sys\n",
    "\n",
    "sys.path.append(os.pardir)  # 부모 디렉터리의 파일을 가져올 수 있도록 설정\n",
    "import numpy as np\n",
    "import matplotlib.pyplot as plt\n",
    "from dataset.mnist import load_mnist\n",
    "from common.util import smooth_curve\n",
    "from common.multi_layer_net import MultiLayerNet\n",
    "from common.optimizer import SGD\n",
    "\n",
    "\n",
    "# 0. MNIST 데이터 읽기==========\n",
    "(x_train, t_train), (x_test, t_test) = load_mnist(normalize=True)\n",
    "\n",
    "train_size = x_train.shape[0]\n",
    "batch_size = 128\n",
    "max_iterations = 2000\n",
    "\n",
    "\n",
    "# 1. 실험용 설정==========\n",
    "weight_init_types = {'std=0.01': 0.01, 'Xavier': 'sigmoid', 'He': 'relu'}\n",
    "optimizer = SGD(lr=0.01)\n",
    "\n",
    "networks = {}\n",
    "train_loss = {}\n",
    "for key, weight_type in weight_init_types.items():\n",
    "    networks[key] = MultiLayerNet(input_size=784, hidden_size_list=[100, 100, 100, 100],\n",
    "                                  output_size=10, weight_init_std=weight_type)\n",
    "    train_loss[key] = []\n",
    "\n",
    "\n",
    "# 2. 훈련 시작==========\n",
    "for i in range(max_iterations):\n",
    "    batch_mask = np.random.choice(train_size, batch_size)\n",
    "    x_batch = x_train[batch_mask]\n",
    "    t_batch = t_train[batch_mask]\n",
    "    \n",
    "    for key in weight_init_types.keys():\n",
    "        grads = networks[key].gradient(x_batch, t_batch)\n",
    "        optimizer.update(networks[key].params, grads)\n",
    "    \n",
    "        loss = networks[key].loss(x_batch, t_batch)\n",
    "        train_loss[key].append(loss)\n",
    "    \n",
    "    if i % 100 == 0:\n",
    "        print(\"===========\" + \"iteration:\" + str(i) + \"===========\")\n",
    "        for key in weight_init_types.keys():\n",
    "            loss = networks[key].loss(x_batch, t_batch)\n",
    "            print(key + \":\" + str(loss))\n",
    "\n"
   ]
  },
  {
   "cell_type": "code",
   "execution_count": 5,
   "id": "ac0adf3e",
   "metadata": {},
   "outputs": [
    {
     "data": {
      "image/png": "[encoded data removed]",
      "text/plain": [
       "<Figure size 432x288 with 1 Axes>"
      ]
     },
     "metadata": {
      "needs_background": "light"
     },
     "output_type": "display_data"
    }
   ],
   "source": [
    "\n",
    "\n",
    "# 3. 그래프 그리기==========\n",
    "markers = {'std=0.01': 'o', 'Xavier': 's', 'He': 'D'}\n",
    "x = np.arange(max_iterations)\n",
    "for key in weight_init_types.keys():\n",
    "    plt.plot(x, smooth_curve(train_loss[key]), marker=markers[key], markevery=100, label=key)\n",
    "plt.xlabel(\"iterations\")\n",
    "plt.ylabel(\"loss\")\n",
    "plt.ylim(0, 2.5)\n",
    "plt.legend()\n",
    "# plt.show()\n",
    "box_off()"
   ]
  },
  {
   "cell_type": "code",
   "execution_count": null,
   "id": "82fd120c",
   "metadata": {},
   "outputs": [],
   "source": []
  }
 ],
 "metadata": {
  "kernelspec": {
   "display_name": "Python 3",
   "language": "python",
   "name": "python3"
  },
  "language_info": {
   "codemirror_mode": {
    "name": "ipython",
    "version": 3
   },
   "file_extension": ".py",
   "mimetype": "text/x-python",
   "name": "python",
   "nbconvert_exporter": "python",
   "pygments_lexer": "ipython3",
   "version": "3.7.7"
  }
 },
 "nbformat": 4,
 "nbformat_minor": 5
}
